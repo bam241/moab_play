{
 "cells": [
  {
   "cell_type": "code",
   "execution_count": 1,
   "metadata": {},
   "outputs": [],
   "source": [
    "import sys \n",
    "import os\n",
    "\n",
    "import pandas as pd\n",
    "import pymoab\n",
    "import pydagmc\n",
    "from pymoab import core\n",
    "from pymoab import types\n",
    "\n",
    "from pymoab.tag import Tag\n",
    "import numpy as np"
   ]
  },
  {
   "cell_type": "code",
   "execution_count": 2,
   "metadata": {},
   "outputs": [
    {
     "data": {
      "text/plain": [
       "'unknown'"
      ]
     },
     "execution_count": 2,
     "metadata": {},
     "output_type": "execute_result"
    }
   ],
   "source": [
    "pymoab.__version__"
   ]
  },
  {
   "cell_type": "code",
   "execution_count": 3,
   "metadata": {},
   "outputs": [],
   "source": [
    "mb = core.Core()"
   ]
  },
  {
   "cell_type": "code",
   "execution_count": 4,
   "metadata": {},
   "outputs": [
    {
     "name": "stderr",
     "output_type": "stream",
     "text": [
      "Warning: Additional flag types will not be read\n",
      "/usr/local/lib/python3.12/dist-packages/pydagmc/dagnav.py:343: UserWarning: Assigned geom_dimension=4 to group 'graveyard_comp'.\n",
      "  warn(f\"Assigned geom_dimension={self._geom_dimension} to {identifier}.\")\n"
     ]
    }
   ],
   "source": [
    "model = pydagmc.Model(\"./rtttest_mcnp_mesh.rtt\")\n",
    "mb = model.mb\n",
    "rs = mb.get_root_set()\n",
    "hdle = mb.get_entities_by_handle(rs)"
   ]
  },
  {
   "cell_type": "code",
   "execution_count": 5,
   "metadata": {},
   "outputs": [],
   "source": [
    "def GetMaterialList(moabcore):\n",
    "    root_set = mb.get_root_set()\n",
    "    \n",
    "    category_tg_name = mb.tag_get_handle(\"CATEGORY\", 32, types.MB_TYPE_OPAQUE, False)\n",
    "    group_handle = mb.get_entities_by_type_and_tag(root_set, types.MBENTITYSET, category_tg_name, np.array(['Group']))\n",
    " \n",
    "    name_tg_name = mb.tag_get_handle(\"NAME\", 32, types.MB_TYPE_OPAQUE, False)\n",
    "    mat_list = []\n",
    "    for i in group_handle:\n",
    "        try:\n",
    "            mat_name = mb.tag_get_data(name_tg_name, i)[0][0]\n",
    "            if mat_name[0:3] == \"mat\" :\n",
    "                mat_list.append(mat_name)\n",
    "        except RuntimeError:\n",
    "            continue\n",
    "    return mat_list\n",
    "\n",
    "def GetMaterialHandle(moabcore):\n",
    "    root_set = mb.get_root_set()\n",
    "    hdle_list = mb.get_entities_by_handle(root_set)\n",
    "    tg_name = mb.tag_get_handle(\"NAME\", 32, types.MB_TYPE_OPAQUE, False)\n",
    "    mat_hld = []\n",
    "    for i in hdle:\n",
    "        try:\n",
    "            mat_name = mb.tag_get_data(tg_name, i)[0][0]\n",
    "            if mat_name[0:3] == \"mat\" :\n",
    "                mat_hld.append(i)\n",
    "        except RuntimeError:\n",
    "            continue\n",
    "    return mat_hld\n",
    "\n",
    "def GetMaterialAssignment(moabcore):\n",
    "    mat_assignment = []\n",
    "    root_set = mb.get_root_set()\n",
    "    mat_list = GetMaterialList(moabcore)\n",
    "    tg_name = mb.tag_get_handle(\"NAME\", 32, types.MB_TYPE_OPAQUE, False)\n",
    "    for i in range(len(mat_list)):\n",
    "        mat_hdle = mb.get_entities_by_type_and_tag(root_set, types.MBENTITYSET, tg_name, np.array([mat_list[i]]))\n",
    "        for hld in mat_hdle:\n",
    "            assignent_mat_tmp = []\n",
    "            for vol_hld in mb.get_entities_by_handle(hld):\n",
    "                assignent_mat_tmp.append(vol_hld)\n",
    "            mat_assignment.append(assignent_mat_tmp)\n",
    "    return mat_assignment\n",
    "\n",
    "\n",
    "\n",
    "def GetVolumeHandle(moabcore):\n",
    "    vol_handle = []\n",
    "    root_set = mb.get_root_set()\n",
    "    tg_name = mb.tag_get_handle(\"CATEGORY\", 32, types.MB_TYPE_OPAQUE, False)\n",
    "    volume_handle = mb.get_entities_by_type_and_tag(root_set, types.MBENTITYSET, tg_name, np.array(['Volume']))\n",
    "    for hld in volume_handle:\n",
    "        vol_handle.append(hld)\n",
    "    return vol_handle\n",
    "\n",
    "def GetVolumeMaterial(moabcore):\n",
    "    rtn = []\n",
    "    root_set = mb.get_root_set()\n",
    "    mat_list = GetMaterialList(moabcore)\n",
    "    tg_name = mb.tag_get_handle(\"NAME\", 32, types.MB_TYPE_OPAQUE, False)\n",
    "    for i in range(len(mat_list)):\n",
    "        mat_hdle = mb.get_entities_by_type_and_tag(root_set, types.MBENTITYSET, tg_name, np.array([mat_list[i]]))\n",
    "        for hld in mat_hdle:\n",
    "            for hld_2 in mb.get_entities_by_handle(hld):\n",
    "                print(mb.tag_get_data(tg, hld), \" \", hld_2, \" \", mb.tag_get_data(tg, hld_2))\n",
    "                \n",
    "def GetVolumeId(moabcore):\n",
    "    rtn = []\n",
    "    volume_identities = []\n",
    "    vol_hdl = GetVolumeHandle(moabcore)\n",
    "    tg_name = mb.tag_get_handle(\"GLOBAL_ID\", 1, types.MB_TYPE_INTEGER, False)\n",
    "    for i in vol_hdl:\n",
    "        try:\n",
    "            volume_identities.append(mb.tag_get_data(tg_name, i)[0][0])\n",
    "        except RuntimeError:\n",
    "            continue\n",
    "    return volume_identities\n",
    "\n",
    "def GetMaterialId(moabcore):\n",
    "    rtn = []\n",
    "    volume_identities = []\n",
    "    vol_hdl = GetMaterialHandle(moabcore)\n",
    "    tg_name = mb.tag_get_handle(\"GLOBAL_ID\", 1, types.MB_TYPE_INTEGER, False)\n",
    "    for i in vol_hdl:\n",
    "        try:\n",
    "            volume_identities.append(mb.tag_get_data(tg_name, i)[0][0])\n",
    "        except RuntimeError:\n",
    "            continue\n",
    "    return volume_identities\n",
    "\n",
    "\n",
    "def GetVolumeMaterialAssignment_handle(moabcore):\n",
    "    mat_assigment = GetMaterialAssignment(moabcore)\n",
    "    volume_handle = GetVolumeHandle(moabcore)\n",
    "    mat_handle = GetMaterialHandle(moabcore)\n",
    "\n",
    "    mat_in_vol = []\n",
    "    for vol_hdl in volume_handle:\n",
    "        for i, asgmts in enumerate(mat_assignment):\n",
    "            if vol_hdl in asgmts:\n",
    "                mat_in_vol.append(mat_handle[i])\n",
    "    return mat_in_vol\n",
    "\n",
    "def GetVolumeMaterialAssignment_name(moabcore):\n",
    "    mat_assigment = GetMaterialAssignment(moabcore)\n",
    "    volume_handle = GetVolumeHandle(moabcore)\n",
    "    mat_name = GetMaterialList(moabcore)\n",
    "\n",
    "    mat_in_vol = []\n",
    "    for vol_hdl in volume_handle:\n",
    "        for i, asgmts in enumerate(mat_assignment):\n",
    "            if vol_hdl in asgmts:\n",
    "                mat_in_vol.append(mat_name[i])\n",
    "    return mat_in_vol\n",
    "\n",
    "\n"
   ]
  },
  {
   "cell_type": "code",
   "execution_count": 6,
   "metadata": {},
   "outputs": [
    {
     "name": "stdout",
     "output_type": "stream",
     "text": [
      "Using default writer WriteHDF5 for file rtttest_mcnp_mesh_out.h5 \n"
     ]
    }
   ],
   "source": [
    "mb.write_file(\"rtttest_mcnp_mesh_out.h5\")"
   ]
  },
  {
   "cell_type": "code",
   "execution_count": 7,
   "metadata": {},
   "outputs": [],
   "source": [
    "mat_list = GetMaterialList(mb)\n",
    "mat_hdl = GetMaterialHandle(mb)\n",
    "mat_assignment = GetMaterialAssignment(mb)\n",
    "vol_hdl = GetVolumeHandle(mb)\n",
    "vol_id = GetVolumeId(mb)\n",
    "mat_id = GetMaterialId(mb)\n",
    "mat_vol = GetVolumeMaterialAssignment_handle(mb)\n",
    "mat_vol_name = GetVolumeMaterialAssignment_name(mb)\n",
    "\n",
    "\n",
    "\n",
    "index = range(0, len(vol_hdl))\n",
    "columns=['ID', 'Handle', 'Material name', 'Material handle']\n",
    "pdf = pd.DataFrame(index=index, columns=columns)\n",
    "for x in range(len(vol_hdl)):\n",
    "    pdf.loc[[x], 'ID'] = vol_id[x]\n",
    "    pdf.loc[[x], 'Handle'] = vol_hdl[x]\n",
    "    pdf.loc[[x], 'Handle'] = vol_hdl[x]\n",
    "    pdf.loc[[x], 'Material handle'] = mat_vol[x]\n",
    "    pdf.loc[[x], 'Material name'] = mat_vol_name[x]\n"
   ]
  },
  {
   "cell_type": "code",
   "execution_count": 9,
   "metadata": {},
   "outputs": [
    {
     "data": {
      "text/html": [
       "<div>\n",
       "<style scoped>\n",
       "    .dataframe tbody tr th:only-of-type {\n",
       "        vertical-align: middle;\n",
       "    }\n",
       "\n",
       "    .dataframe tbody tr th {\n",
       "        vertical-align: top;\n",
       "    }\n",
       "\n",
       "    .dataframe thead th {\n",
       "        text-align: right;\n",
       "    }\n",
       "</style>\n",
       "<table border=\"1\" class=\"dataframe\">\n",
       "  <thead>\n",
       "    <tr style=\"text-align: right;\">\n",
       "      <th></th>\n",
       "      <th>ID</th>\n",
       "      <th>Handle</th>\n",
       "      <th>Material name</th>\n",
       "      <th>Material handle</th>\n",
       "    </tr>\n",
       "  </thead>\n",
       "  <tbody>\n",
       "    <tr>\n",
       "      <th>0</th>\n",
       "      <td>1</td>\n",
       "      <td>12682136550675316758</td>\n",
       "      <td>mat:Concrete</td>\n",
       "      <td>12682136550675316763</td>\n",
       "    </tr>\n",
       "    <tr>\n",
       "      <th>1</th>\n",
       "      <td>2</td>\n",
       "      <td>12682136550675316759</td>\n",
       "      <td>mat:VOID</td>\n",
       "      <td>12682136550675316764</td>\n",
       "    </tr>\n",
       "    <tr>\n",
       "      <th>2</th>\n",
       "      <td>3</td>\n",
       "      <td>12682136550675316760</td>\n",
       "      <td>mat:Air</td>\n",
       "      <td>12682136550675316765</td>\n",
       "    </tr>\n",
       "  </tbody>\n",
       "</table>\n",
       "</div>"
      ],
      "text/plain": [
       "  ID                Handle Material name       Material handle\n",
       "0  1  12682136550675316758  mat:Concrete  12682136550675316763\n",
       "1  2  12682136550675316759      mat:VOID  12682136550675316764\n",
       "2  3  12682136550675316760       mat:Air  12682136550675316765"
      ]
     },
     "execution_count": 9,
     "metadata": {},
     "output_type": "execute_result"
    }
   ],
   "source": [
    "pdf"
   ]
  },
  {
   "cell_type": "code",
   "execution_count": 8,
   "metadata": {},
   "outputs": [
    {
     "name": "stdout",
     "output_type": "stream",
     "text": [
      "Material list:  [np.str_('mat:Concrete'), np.str_('mat:VOID'), np.str_('mat:Air')]\n",
      "Material handle:  [np.uint64(12682136550675316763), np.uint64(12682136550675316764), np.uint64(12682136550675316765)]\n",
      "Material assignement:  [[np.uint64(12682136550675316758)], [np.uint64(12682136550675316759)], [np.uint64(12682136550675316760)]]\n",
      "Volume handle:  [np.uint64(12682136550675316758), np.uint64(12682136550675316759), np.uint64(12682136550675316760)]\n",
      "Volume ID:  [np.int32(1), np.int32(2), np.int32(3)]\n",
      "Material ID:  [np.int32(1), np.int32(3), np.int32(2)]\n",
      "VolMat:  [np.uint64(12682136550675316763), np.uint64(12682136550675316764), np.uint64(12682136550675316765)]\n",
      "VolMat Name:  [np.str_('mat:Concrete'), np.str_('mat:VOID'), np.str_('mat:Air')]\n"
     ]
    }
   ],
   "source": [
    "mat_list = GetMaterialList(mb)\n",
    "print(\"Material list: \", mat_list)\n",
    "mat_hdl = GetMaterialHandle(mb)\n",
    "print(\"Material handle: \", mat_hdl)\n",
    "mat_assignment = GetMaterialAssignment(mb)\n",
    "print(\"Material assignement: \", mat_assignment)\n",
    "vol_hdl = GetVolumeHandle(mb)\n",
    "print(\"Volume handle: \", vol_hdl)\n",
    "vol_id = GetVolumeId(mb)\n",
    "print(\"Volume ID: \", vol_id)\n",
    "mat_id = GetMaterialId(mb)\n",
    "print(\"Material ID: \", mat_id)\n",
    "mat_vol = GetVolumeMaterialAssignment_handle(mb)\n",
    "print(\"VolMat: \", mat_vol)\n",
    "mat_vol_name = GetVolumeMaterialAssignment_name(mb)\n",
    "print(\"VolMat Name: \", mat_vol_name)\n",
    "\n",
    "\n",
    "\n",
    "\n"
   ]
  },
  {
   "cell_type": "code",
   "execution_count": null,
   "metadata": {},
   "outputs": [],
   "source": []
  },
  {
   "cell_type": "code",
   "execution_count": null,
   "metadata": {},
   "outputs": [],
   "source": []
  },
  {
   "cell_type": "code",
   "execution_count": null,
   "metadata": {},
   "outputs": [],
   "source": []
  },
  {
   "cell_type": "code",
   "execution_count": null,
   "metadata": {},
   "outputs": [],
   "source": []
  }
 ],
 "metadata": {
  "kernelspec": {
   "display_name": "Python 3 (ipykernel)",
   "language": "python",
   "name": "python3"
  },
  "language_info": {
   "codemirror_mode": {
    "name": "ipython",
    "version": 3
   },
   "file_extension": ".py",
   "mimetype": "text/x-python",
   "name": "python",
   "nbconvert_exporter": "python",
   "pygments_lexer": "ipython3",
   "version": "3.12.3"
  }
 },
 "nbformat": 4,
 "nbformat_minor": 4
}
