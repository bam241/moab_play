{
 "cells": [
  {
   "cell_type": "code",
   "execution_count": 1,
   "metadata": {},
   "outputs": [],
   "source": [
    "import sys \n",
    "import os\n",
    "\n",
    "import pandas as pd\n",
    "import pymoab\n",
    "from pymoab import core\n",
    "from pymoab import types\n",
    "\n",
    "from pymoab.tag import Tag\n",
    "import numpy as np"
   ]
  },
  {
   "cell_type": "code",
   "execution_count": 2,
   "metadata": {},
   "outputs": [
    {
     "data": {
      "text/plain": [
       "'5.0.1'"
      ]
     },
     "execution_count": 2,
     "metadata": {},
     "output_type": "execute_result"
    }
   ],
   "source": [
    "pymoab.__version__"
   ]
  },
  {
   "cell_type": "code",
   "execution_count": 3,
   "metadata": {},
   "outputs": [],
   "source": [
    "mb = core.Core()"
   ]
  },
  {
   "cell_type": "code",
   "execution_count": 4,
   "metadata": {},
   "outputs": [],
   "source": [
    "mb.load_file(\"./test_dagmc.h5\")\n",
    "rs = mb.get_root_set()\n",
    "hdle = mb.get_entities_by_handle(rs)"
   ]
  },
  {
   "cell_type": "code",
   "execution_count": 5,
   "metadata": {},
   "outputs": [],
   "source": [
    "def GetMaterialList(moabcore):\n",
    "    root_set = mb.get_root_set()\n",
    "    \n",
    "    category_tg_name = mb.tag_get_handle(\"CATEGORY\", 32, types.MB_TYPE_OPAQUE, False)\n",
    "    group_handle = mb.get_entities_by_type_and_tag(root_set, types.MBENTITYSET, category_tg_name, np.array(['Group']))\n",
    " \n",
    "    name_tg_name = mb.tag_get_handle(\"NAME\", 32, types.MB_TYPE_OPAQUE, False)\n",
    "    mat_list = []\n",
    "    for i in group_handle:\n",
    "        try:\n",
    "            mat_name = mb.tag_get_data(name_tg_name, i)[0][0].decode('utf-8')\n",
    "            if mat_name[0:3] == \"mat\" :\n",
    "                mat_list.append(mat_name)\n",
    "        except RuntimeError:\n",
    "            continue\n",
    "    return mat_list\n",
    "\n",
    "def GetMaterialHandle(moabcore):\n",
    "    root_set = mb.get_root_set()\n",
    "    hdle_list = mb.get_entities_by_handle(root_set)\n",
    "    tg_name = mb.tag_get_handle(\"NAME\", 32, types.MB_TYPE_OPAQUE, False)\n",
    "    mat_hld = []\n",
    "    for i in hdle:\n",
    "        try:\n",
    "            mat_name = mb.tag_get_data(tg_name, i)[0][0].decode('utf-8')\n",
    "            if mat_name[0:3] == \"mat\" :\n",
    "                mat_hld.append(i)\n",
    "        except RuntimeError:\n",
    "            continue\n",
    "    return mat_hld\n",
    "\n",
    "def GetMaterialAssignment(moabcore):\n",
    "    mat_assignment = []\n",
    "    root_set = mb.get_root_set()\n",
    "    mat_list = GetMaterialList(moabcore)\n",
    "    tg_name = mb.tag_get_handle(\"NAME\", 32, types.MB_TYPE_OPAQUE, False)\n",
    "    for i in range(len(mat_list)):\n",
    "        mat_hdle = mb.get_entities_by_type_and_tag(root_set, types.MBENTITYSET, tg_name, np.array([mat_list[i]]))\n",
    "        for hld in mat_hdle:\n",
    "            assignent_mat_tmp = []\n",
    "            for vol_hld in mb.get_entities_by_handle(hld):\n",
    "                assignent_mat_tmp.append(vol_hld)\n",
    "            mat_assignment.append(assignent_mat_tmp)\n",
    "    return mat_assignment\n",
    "\n",
    "\n",
    "\n",
    "def GetVolumeHandle(moabcore):\n",
    "    vol_handle = []\n",
    "    root_set = mb.get_root_set()\n",
    "    tg_name = mb.tag_get_handle(\"CATEGORY\", 32, types.MB_TYPE_OPAQUE, False)\n",
    "    volume_handle = mb.get_entities_by_type_and_tag(root_set, types.MBENTITYSET, tg_name, np.array(['Volume']))\n",
    "    for hld in volume_handle:\n",
    "        vol_handle.append(hld)\n",
    "    return vol_handle\n",
    "\n",
    "def GetVolumeMaterial(moabcore):\n",
    "    rtn = []\n",
    "    root_set = mb.get_root_set()\n",
    "    mat_list = GetMaterialList(moabcore)\n",
    "    tg_name = mb.tag_get_handle(\"NAME\", 32, types.MB_TYPE_OPAQUE, False)\n",
    "    for i in range(len(mat_list)):\n",
    "        mat_hdle = mb.get_entities_by_type_and_tag(root_set, types.MBENTITYSET, tg_name, np.array([mat_list[i]]))\n",
    "        for hld in mat_hdle:\n",
    "            for hld_2 in mb.get_entities_by_handle(hld):\n",
    "                print(mb.tag_get_data(tg, hld), \" \", hld_2, \" \", mb.tag_get_data(tg, hld_2))\n",
    "                \n",
    "def GetVolumeId(moabcore):\n",
    "    rtn = []\n",
    "    volume_identities = []\n",
    "    vol_hdl = GetVolumeHandle(moabcore)\n",
    "    tg_name = mb.tag_get_handle(\"GLOBAL_ID\", 1, types.MB_TYPE_INTEGER, False)\n",
    "    for i in vol_hdl:\n",
    "        try:\n",
    "            volume_identities.append(mb.tag_get_data(tg_name, i)[0][0])\n",
    "        except RuntimeError:\n",
    "            continue\n",
    "    return volume_identities\n",
    "\n",
    "def GetMaterialId(moabcore):\n",
    "    rtn = []\n",
    "    volume_identities = []\n",
    "    vol_hdl = GetMaterialHandle(moabcore)\n",
    "    tg_name = mb.tag_get_handle(\"GLOBAL_ID\", 1, types.MB_TYPE_INTEGER, False)\n",
    "    for i in vol_hdl:\n",
    "        try:\n",
    "            volume_identities.append(mb.tag_get_data(tg_name, i)[0][0])\n",
    "        except RuntimeError:\n",
    "            continue\n",
    "    return volume_identities\n",
    "\n",
    "\n",
    "def GetVolumeMaterialAssignment_handle(moabcore):\n",
    "    mat_assigment = GetMaterialAssignment(moabcore)\n",
    "    volume_handle = GetVolumeHandle(moabcore)\n",
    "    mat_handle = GetMaterialHandle(moabcore)\n",
    "\n",
    "    mat_in_vol = []\n",
    "    for vol_hdl in volume_handle:\n",
    "        for i, asgmts in enumerate(mat_assignment):\n",
    "            if vol_hdl in asgmts:\n",
    "                mat_in_vol.append(mat_handle[i])\n",
    "    return mat_in_vol\n",
    "\n",
    "def GetVolumeMaterialAssignment_name(moabcore):\n",
    "    mat_assigment = GetMaterialAssignment(moabcore)\n",
    "    volume_handle = GetVolumeHandle(moabcore)\n",
    "    mat_name = GetMaterialList(moabcore)\n",
    "\n",
    "    mat_in_vol = []\n",
    "    for vol_hdl in volume_handle:\n",
    "        for i, asgmts in enumerate(mat_assignment):\n",
    "            if vol_hdl in asgmts:\n",
    "                mat_in_vol.append(mat_name[i])\n",
    "    return mat_in_vol\n",
    "\n",
    "\n"
   ]
  },
  {
   "cell_type": "code",
   "execution_count": 6,
   "metadata": {},
   "outputs": [],
   "source": [
    "mat_list = GetMaterialList(mb)\n",
    "mat_hdl = GetMaterialHandle(mb)\n",
    "mat_assignment = GetMaterialAssignment(mb)\n",
    "vol_hdl = GetVolumeHandle(mb)\n",
    "vol_id = GetVolumeId(mb)\n",
    "mat_id = GetMaterialId(mb)\n",
    "mat_vol = GetVolumeMaterialAssignment_handle(mb)\n",
    "mat_vol_name = GetVolumeMaterialAssignment_name(mb)\n",
    "\n",
    "\n",
    "\n",
    "index = range(0, len(vol_hdl))\n",
    "columns=['ID', 'Handle', 'Material name', 'Material handle']\n",
    "pdf = pd.DataFrame(index=index, columns=columns)\n",
    "for x in range(len(vol_hdl)):\n",
    "    pdf.loc[[x], 'ID'] = vol_id[x]\n",
    "    pdf.loc[[x], 'Handle'] = vol_hdl[x]\n",
    "    pdf.loc[[x], 'Handle'] = vol_hdl[x]\n",
    "    pdf.loc[[x], 'Material handle'] = mat_vol[x]\n",
    "    pdf.loc[[x], 'Material name'] = mat_vol_name[x]\n"
   ]
  },
  {
   "cell_type": "code",
   "execution_count": 7,
   "metadata": {},
   "outputs": [
    {
     "data": {
      "application/vnd.jupyter.widget-view+json": {
       "model_id": "0a30587690914a40b8580a004bf040d8",
       "version_major": 2,
       "version_minor": 0
      },
      "text/plain": [
       "QgridWidget(grid_options={'filterable': True, 'enableTextSelectionOnCells': True, 'autoEdit': False, 'rowHeigh…"
      ]
     },
     "metadata": {},
     "output_type": "display_data"
    }
   ],
   "source": [
    "import qgrid\n",
    "qgrid_widget = qgrid.show_grid(pdf, show_toolbar=True)\n",
    "qgrid_widget\n"
   ]
  },
  {
   "cell_type": "code",
   "execution_count": null,
   "metadata": {},
   "outputs": [],
   "source": []
  },
  {
   "cell_type": "code",
   "execution_count": 8,
   "metadata": {},
   "outputs": [
    {
     "name": "stdout",
     "output_type": "stream",
     "text": [
      "Material list:  ['mat:Hydrogen']\n",
      "Material handle:  [12682136550675316802]\n",
      "Material assignement:  [[12682136550675316798, 12682136550675316799, 12682136550675316800]]\n",
      "Volume handle:  [12682136550675316798, 12682136550675316799, 12682136550675316800]\n",
      "Volume ID:  [1, 2, 3]\n",
      "Material ID:  [2]\n",
      "VolMat:  [12682136550675316802, 12682136550675316802, 12682136550675316802]\n",
      "VolMat Name:  ['mat:Hydrogen', 'mat:Hydrogen', 'mat:Hydrogen']\n"
     ]
    }
   ],
   "source": [
    "mat_list = GetMaterialList(mb)\n",
    "print(\"Material list: \", mat_list)\n",
    "mat_hdl = GetMaterialHandle(mb)\n",
    "print(\"Material handle: \", mat_hdl)\n",
    "mat_assignment = GetMaterialAssignment(mb)\n",
    "print(\"Material assignement: \", mat_assignment)\n",
    "vol_hdl = GetVolumeHandle(mb)\n",
    "print(\"Volume handle: \", vol_hdl)\n",
    "vol_id = GetVolumeId(mb)\n",
    "print(\"Volume ID: \", vol_id)\n",
    "mat_id = GetMaterialId(mb)\n",
    "print(\"Material ID: \", mat_id)\n",
    "mat_vol = GetVolumeMaterialAssignment_handle(mb)\n",
    "print(\"VolMat: \", mat_vol)\n",
    "mat_vol_name = GetVolumeMaterialAssignment_name(mb)\n",
    "print(\"VolMat Name: \", mat_vol_name)\n",
    "\n",
    "\n",
    "\n",
    "\n"
   ]
  },
  {
   "cell_type": "code",
   "execution_count": null,
   "metadata": {},
   "outputs": [],
   "source": []
  },
  {
   "cell_type": "code",
   "execution_count": null,
   "metadata": {},
   "outputs": [],
   "source": []
  },
  {
   "cell_type": "code",
   "execution_count": null,
   "metadata": {},
   "outputs": [],
   "source": []
  },
  {
   "cell_type": "code",
   "execution_count": null,
   "metadata": {},
   "outputs": [],
   "source": []
  }
 ],
 "metadata": {
  "kernelspec": {
   "display_name": "Python 3",
   "language": "python",
   "name": "python3"
  },
  "language_info": {
   "codemirror_mode": {
    "name": "ipython",
    "version": 3
   },
   "file_extension": ".py",
   "mimetype": "text/x-python",
   "name": "python",
   "nbconvert_exporter": "python",
   "pygments_lexer": "ipython3",
   "version": "3.5.6"
  }
 },
 "nbformat": 4,
 "nbformat_minor": 2
}
